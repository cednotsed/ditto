{
 "cells": [
  {
   "cell_type": "code",
   "execution_count": 1,
   "id": "e593e904",
   "metadata": {},
   "outputs": [],
   "source": [
    "import os\n",
    "os.environ['QT_QPA_PLATFORM']='offscreen'\n",
    "from pathlib import Path\n",
    "import pandas as pd\n",
    "from ete3 import Tree, TreeStyle, NodeStyle"
   ]
  },
  {
   "cell_type": "code",
   "execution_count": 2,
   "id": "b14ed4f9",
   "metadata": {},
   "outputs": [],
   "source": [
    "cwd = Path('/mnt/c/Users/Cedric/Desktop/git_repos/ditto')"
   ]
  },
  {
   "cell_type": "code",
   "execution_count": 3,
   "id": "dbd3ff7c",
   "metadata": {},
   "outputs": [],
   "source": [
    "meta = pd.read_csv('data/metadata/combined_metadata_201121.audacity_only.tsv')\n",
    "meta = meta.loc[:, ['accession_id', 'clade', 'lineage', 'host', 'location']]"
   ]
  },
  {
   "cell_type": "code",
   "execution_count": 4,
   "id": "cd6bac1b",
   "metadata": {
    "scrolled": true
   },
   "outputs": [],
   "source": [
    "t = Tree('data/trees/mink_n789_201121.audacity_only.v8_masked.tree', format=1)\n",
    "ts = TreeStyle()\n",
    "ts.show_leaf_name = False\n",
    "ts.mode = \"c\"\n",
    "ts.arc_start = -360 # 0 degrees = 3 o'clock\n",
    "ts.arc_span = 360\n",
    "# t.render(\"results/test_tree.png\", tree_style=ts)"
   ]
  },
  {
   "cell_type": "markdown",
   "id": "463f4a84",
   "metadata": {},
   "source": [
    "#### Blank every node"
   ]
  },
  {
   "cell_type": "code",
   "execution_count": 6,
   "id": "ecd58ac7",
   "metadata": {},
   "outputs": [],
   "source": [
    "for node in t.traverse():\n",
    "    nstyle = NodeStyle()\n",
    "    nstyle[\"fgcolor\"] = \"black\"\n",
    "    nstyle[\"size\"] = 1\n",
    "    node.set_style(nstyle)\n",
    "\n",
    "#     t.render(\"%%inline\")"
   ]
  },
  {
   "cell_type": "code",
   "execution_count": 7,
   "id": "de5b836d",
   "metadata": {},
   "outputs": [],
   "source": [
    "colours_50 = [\"#E41A1C\",\"#C72A35\",\"#AB3A4E\",\"#8F4A68\",\"#735B81\",\"#566B9B\",\"#3A7BB4\",\"#3A85A8\",\"#3D8D96\",\"#419584\",\"#449D72\",\"#48A460\",\"#4CAD4E\",\"#56A354\",\"#629363\",\"#6E8371\",\"#7A7380\",\"#87638F\",\"#93539D\",\"#A25392\",\"#B35A77\",\"#C4625D\",\"#D46A42\",\"#E57227\",\"#F67A0D\",\"#FF8904\",\"#FF9E0C\",\"#FFB314\",\"#FFC81D\",\"#FFDD25\",\"#FFF12D\",\"#F9F432\",\"#EBD930\",\"#DCBD2E\",\"#CDA12C\",\"#BF862B\",\"#B06A29\",\"#A9572E\",\"#B65E46\",\"#C3655F\",\"#D06C78\",\"#DE7390\",\"#EB7AA9\",\"#F581BE\",\"#E585B8\",\"#D689B1\",\"#C78DAB\",\"#B791A5\",\"#A8959F\",\"#999999\"]\n",
    "simple_palette = [\"Red\", \"DarkBlue\", \"Gold\", \"LimeGreen\",\"Violet\",\"MediumTurquoise\",\"Sienna\",\"LightCoral\",\"LightSkyBlue\",\"Indigo\",\"Tan\",\"Coral\",\"OliveDrab\",\"Teal\"]\n"
   ]
  },
  {
   "cell_type": "code",
   "execution_count": 16,
   "id": "036315ea",
   "metadata": {},
   "outputs": [
    {
     "data": {
      "text/plain": [
       "0       False\n",
       "1       False\n",
       "2       False\n",
       "3       False\n",
       "4       False\n",
       "        ...  \n",
       "1020     True\n",
       "1021     True\n",
       "1022     True\n",
       "1023     True\n",
       "1024     True\n",
       "Name: host, Length: 1025, dtype: bool"
      ]
     },
     "execution_count": 16,
     "metadata": {},
     "output_type": "execute_result"
    }
   ],
   "source": [
    "~meta.host.isin(['Felis catus', 'Odocoileus virginianus', 'Neovison vison'])"
   ]
  },
  {
   "cell_type": "code",
   "execution_count": 92,
   "id": "cb30c1f5",
   "metadata": {},
   "outputs": [
    {
     "data": {
      "text/plain": [
       "{'exclude': None,\n",
       " 'Felis catus': '#E41A1C',\n",
       " 'Odocoileus virginianus': '#C72A35',\n",
       " 'Neovison vison': '#AB3A4E'}"
      ]
     },
     "execution_count": 92,
     "metadata": {},
     "output_type": "execute_result"
    }
   ],
   "source": [
    "levels = ['exclude', 'Felis catus', 'Odocoileus virginianus', 'Neovison vison']\n",
    "pal = colours_50[0:3]\n",
    "pal = [None] + pal\n",
    "pal_dict = {x: y for x, y in zip(hosts, pal)}\n",
    "pal_dict"
   ]
  },
  {
   "cell_type": "code",
   "execution_count": null,
   "id": "178a91f7",
   "metadata": {},
   "outputs": [],
   "source": [
    "meta.loc[~meta.host.isin(hosts), 'host'] = 'exclude'"
   ]
  },
  {
   "cell_type": "code",
   "execution_count": 135,
   "id": "b54389d6",
   "metadata": {
    "scrolled": true
   },
   "outputs": [
    {
     "data": {
      "text/plain": [
       "'B.1.1.464'"
      ]
     },
     "execution_count": 135,
     "metadata": {},
     "output_type": "execute_result"
    }
   ],
   "source": [
    "levels = list(meta[col_name].unique())\n",
    "levels.index('B.1.1.464')\n",
    "levels[56]"
   ]
  },
  {
   "cell_type": "code",
   "execution_count": 145,
   "id": "40c29f5c",
   "metadata": {},
   "outputs": [
    {
     "data": {
      "text/plain": [
       "'B.1.1.464'"
      ]
     },
     "execution_count": 145,
     "metadata": {},
     "output_type": "execute_result"
    }
   ],
   "source": [
    "len(pal)\n",
    "'B.1.1.464'"
   ]
  },
  {
   "cell_type": "code",
   "execution_count": 144,
   "id": "8298fa77",
   "metadata": {
    "scrolled": true
   },
   "outputs": [
    {
     "data": {
      "text/plain": [
       "{'B.1.1.39': '#E41A1C',\n",
       " 'B.1.2': '#C72A35',\n",
       " 'B.1.1.141': '#AB3A4E',\n",
       " 'B.1.1.7': '#8F4A68',\n",
       " 'B.1.1.214': '#735B81',\n",
       " 'B.1': '#566B9B',\n",
       " 'B.1.36.35': '#3A7BB4',\n",
       " 'B.1.160.29': '#3A85A8',\n",
       " 'B.1.160.16': '#3D8D96',\n",
       " 'B.1.526': '#419584',\n",
       " 'B.1.429': '#449D72',\n",
       " 'B.1.1.486': '#48A460',\n",
       " 'B.1.240': '#4CAD4E',\n",
       " 'AY.98.1': '#56A354',\n",
       " 'B.1.369': '#629363',\n",
       " 'B.1.234': '#6E8371',\n",
       " 'B.1.1.186': '#7A7380',\n",
       " 'B.1.243': '#87638F',\n",
       " 'B.1.564': '#93539D',\n",
       " 'B.1.452': '#A25392',\n",
       " 'B.1.1': '#B35A77',\n",
       " 'B.1.1.254': '#C4625D',\n",
       " 'AY.29': '#D46A42',\n",
       " 'AY.3': '#E57227',\n",
       " 'B.1.617.2': '#F67A0D',\n",
       " 'AY.103': '#FF8904',\n",
       " 'AY.44': '#FF9E0C',\n",
       " 'B.1.177.60': '#FFB314',\n",
       " 'B.1.1.298': '#FFC81D',\n",
       " 'B.1.577': '#FFDD25',\n",
       " 'B.1.1.317': '#FFF12D',\n",
       " 'B.1.1.424': '#F9F432',\n",
       " 'B.1.177': '#EBD930',\n",
       " 'B.1.582': '#DCBD2E',\n",
       " 'B.1.119': '#CDA12C',\n",
       " 'B.1.311': '#BF862B',\n",
       " 'B.1.264': '#B06A29',\n",
       " 'B.1.396': '#A9572E',\n",
       " 'B.1.596': '#B65E46',\n",
       " 'C.36.3': '#C3655F',\n",
       " 'None': '#D06C78',\n",
       " 'B.1.509': '#DE7390',\n",
       " 'B.1.576': '#EB7AA9',\n",
       " 'B.1.609': '#F581BE',\n",
       " 'B.1.340': '#E585B8',\n",
       " 'B.1.1.135': '#D689B1',\n",
       " 'B.1.1.362': '#C78DAB',\n",
       " 'B.1.110.3': '#B791A5',\n",
       " 'AY.25': '#A8959F',\n",
       " 'AY.36': '#999999'}"
      ]
     },
     "execution_count": 144,
     "metadata": {},
     "output_type": "execute_result"
    }
   ],
   "source": [
    "col_name = 'lineage'\n",
    "levels = list(meta[col_name].unique())\n",
    "pal = colours_50[0:len(levels)]\n",
    "pal_dict = {x: y for x, y in zip(levels, pal)}\n",
    "pal_dict"
   ]
  },
  {
   "cell_type": "code",
   "execution_count": 143,
   "id": "c46012fa",
   "metadata": {},
   "outputs": [],
   "source": [
    "pal_dict = {}"
   ]
  },
  {
   "cell_type": "code",
   "execution_count": 146,
   "id": "a67a1580",
   "metadata": {},
   "outputs": [
    {
     "ename": "KeyError",
     "evalue": "'B.1.1.464'",
     "output_type": "error",
     "traceback": [
      "\u001b[0;31m---------------------------------------------------------------------------\u001b[0m",
      "\u001b[0;31mKeyError\u001b[0m                                  Traceback (most recent call last)",
      "\u001b[0;32m<ipython-input-146-1d2589f90ac7>\u001b[0m in \u001b[0;36m<module>\u001b[0;34m\u001b[0m\n\u001b[1;32m      3\u001b[0m         \u001b[0mn_level\u001b[0m \u001b[0;34m=\u001b[0m \u001b[0mmeta\u001b[0m\u001b[0;34m.\u001b[0m\u001b[0mloc\u001b[0m\u001b[0;34m[\u001b[0m\u001b[0mmeta\u001b[0m\u001b[0;34m.\u001b[0m\u001b[0maccession_id\u001b[0m \u001b[0;34m==\u001b[0m \u001b[0mnode\u001b[0m\u001b[0;34m.\u001b[0m\u001b[0mname\u001b[0m\u001b[0;34m,\u001b[0m \u001b[0mcol_name\u001b[0m\u001b[0;34m]\u001b[0m\u001b[0;34m.\u001b[0m\u001b[0mvalues\u001b[0m\u001b[0;34m[\u001b[0m\u001b[0;36m0\u001b[0m\u001b[0;34m]\u001b[0m\u001b[0;34m\u001b[0m\u001b[0;34m\u001b[0m\u001b[0m\n\u001b[1;32m      4\u001b[0m         \u001b[0mnstyle\u001b[0m \u001b[0;34m=\u001b[0m \u001b[0mNodeStyle\u001b[0m\u001b[0;34m(\u001b[0m\u001b[0;34m)\u001b[0m\u001b[0;34m\u001b[0m\u001b[0;34m\u001b[0m\u001b[0m\n\u001b[0;32m----> 5\u001b[0;31m         \u001b[0mnstyle\u001b[0m\u001b[0;34m[\u001b[0m\u001b[0;34m\"fgcolor\"\u001b[0m\u001b[0;34m]\u001b[0m \u001b[0;34m=\u001b[0m \u001b[0mpal_dict\u001b[0m\u001b[0;34m[\u001b[0m\u001b[0mn_level\u001b[0m\u001b[0;34m]\u001b[0m\u001b[0;34m\u001b[0m\u001b[0;34m\u001b[0m\u001b[0m\n\u001b[0m\u001b[1;32m      6\u001b[0m         \u001b[0mnstyle\u001b[0m\u001b[0;34m[\u001b[0m\u001b[0;34m\"bgcolor\"\u001b[0m\u001b[0;34m]\u001b[0m \u001b[0;34m=\u001b[0m \u001b[0mpal_dict\u001b[0m\u001b[0;34m[\u001b[0m\u001b[0mn_level\u001b[0m\u001b[0;34m]\u001b[0m\u001b[0;34m\u001b[0m\u001b[0;34m\u001b[0m\u001b[0m\n\u001b[1;32m      7\u001b[0m         \u001b[0mnstyle\u001b[0m\u001b[0;34m[\u001b[0m\u001b[0;34m\"size\"\u001b[0m\u001b[0;34m]\u001b[0m \u001b[0;34m=\u001b[0m \u001b[0;36m10\u001b[0m\u001b[0;34m\u001b[0m\u001b[0;34m\u001b[0m\u001b[0m\n",
      "\u001b[0;31mKeyError\u001b[0m: 'B.1.1.464'"
     ]
    }
   ],
   "source": [
    "for node in t.traverse():\n",
    "    if node.name in meta['accession_id'].values:\n",
    "        n_level = meta.loc[meta.accession_id == node.name, col_name].values[0]\n",
    "        nstyle = NodeStyle()\n",
    "        nstyle[\"fgcolor\"] = pal_dict[n_level]\n",
    "        nstyle[\"bgcolor\"] = pal_dict[n_level]\n",
    "        nstyle[\"size\"] = 10\n",
    "        node.set_style(nstyle)\n",
    "        \n",
    "ts = TreeStyle()\n",
    "ts.show_leaf_name = False\n",
    "ts.mode = \"c\"\n",
    "ts.arc_start = -360 # 0 degrees = 3 o'clock\n",
    "ts.arc_span = 360\n",
    "t.render(\"%%inline\", tree_style=ts)"
   ]
  },
  {
   "cell_type": "code",
   "execution_count": 15,
   "id": "d3d1f6a0",
   "metadata": {},
   "outputs": [
    {
     "data": {
      "text/plain": [
       "True"
      ]
     },
     "execution_count": 15,
     "metadata": {},
     "output_type": "execute_result"
    }
   ],
   "source": [
    "n.name == 'EPI_ISL_925353'"
   ]
  }
 ],
 "metadata": {
  "kernelspec": {
   "display_name": "Python 3",
   "language": "python",
   "name": "python3"
  },
  "language_info": {
   "codemirror_mode": {
    "name": "ipython",
    "version": 3
   },
   "file_extension": ".py",
   "mimetype": "text/x-python",
   "name": "python",
   "nbconvert_exporter": "python",
   "pygments_lexer": "ipython3",
   "version": "3.6.13"
  }
 },
 "nbformat": 4,
 "nbformat_minor": 5
}
